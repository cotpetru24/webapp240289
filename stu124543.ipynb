{
  "nbformat": 4,
  "nbformat_minor": 0,
  "metadata": {
    "colab": {
      "provenance": [],
      "authorship_tag": "ABX9TyOmIg1i7qqQdbIE/Eeyosot",
      "include_colab_link": true
    },
    "kernelspec": {
      "name": "python3",
      "display_name": "Python 3"
    },
    "language_info": {
      "name": "python"
    }
  },
  "cells": [
    {
      "cell_type": "markdown",
      "metadata": {
        "id": "view-in-github",
        "colab_type": "text"
      },
      "source": [
        "<a href=\"https://colab.research.google.com/github/cotpetru24/webapp240289/blob/main/stu124543.ipynb\" target=\"_parent\"><img src=\"https://colab.research.google.com/assets/colab-badge.svg\" alt=\"Open In Colab\"/></a>"
      ]
    },
    {
      "cell_type": "code",
      "execution_count": null,
      "metadata": {
        "id": "BHT64otIF5kU"
      },
      "outputs": [],
      "source": []
    },
    {
      "cell_type": "markdown",
      "source": [
        "Importing the dataset and vreviewing the data"
      ],
      "metadata": {
        "id": "UeR6qyo9F73s"
      }
    },
    {
      "cell_type": "code",
      "source": [
        "import pandas as pd\n",
        "import numpy as np\n",
        "\n",
        "df = pd. read_excel(\"/content/Lobster_Data_Set_-_[2925].xlsx\")\n",
        "\n",
        "print(df.describe())\n"
      ],
      "metadata": {
        "colab": {
          "base_uri": "https://localhost:8080/"
        },
        "id": "9PTRsV0WF8p-",
        "outputId": "195b66e0-0f7c-4a6d-a1da-1d4c6862837b"
      },
      "execution_count": 7,
      "outputs": [
        {
          "output_type": "stream",
          "name": "stdout",
          "text": [
            "        Length(mm)  Diameter(mm)   Height(mm)  WholeWeight(g)  \\\n",
            "count  2095.000000   2096.000000  2096.000000     2096.000000   \n",
            "mean      0.520800      0.405527     0.138903        0.818335   \n",
            "std       0.122193      0.101275     0.045252        0.495877   \n",
            "min       0.000000      0.000000     0.000000        0.000000   \n",
            "25%       0.450000      0.345000     0.115000        0.430000   \n",
            "50%       0.540000      0.420000     0.140000        0.792000   \n",
            "75%       0.610000      0.480000     0.165000        1.133125   \n",
            "max       0.815000      0.650000     1.130000        2.825500   \n",
            "\n",
            "       ShuckedWeight(g)  SellWeight(g)        Spots  \n",
            "count       2095.000000    2096.000000  2097.000000  \n",
            "mean           0.355132       0.235823     9.870768  \n",
            "std            0.225217       0.140666     3.297725  \n",
            "min            0.000000       0.001500     0.000000  \n",
            "25%            0.180000       0.121875     8.000000  \n",
            "50%            0.332500       0.230000     9.000000  \n",
            "75%            0.495500       0.322625    11.000000  \n",
            "max            1.488000       1.005000    29.000000  \n"
          ]
        }
      ]
    },
    {
      "cell_type": "markdown",
      "source": [
        "//Checking the dataset for NULL values\n",
        "//printing the total number of attributes that are null"
      ],
      "metadata": {
        "id": "RIiQz54PV2IF"
      }
    },
    {
      "cell_type": "code",
      "source": [
        "print(df.isnull())\n",
        "print(df.isnull().sum())\n",
        "print(f\"Total number of blanck cells {df.isnull().sum().sum()}\")\n"
      ],
      "metadata": {
        "colab": {
          "base_uri": "https://localhost:8080/"
        },
        "id": "q2S62WkNV00q",
        "outputId": "d3eac394-684c-4fed-9cd2-ab27931d07cf"
      },
      "execution_count": 8,
      "outputs": [
        {
          "output_type": "stream",
          "name": "stdout",
          "text": [
            "        Sex  Length(mm)  Diameter(mm)  Height(mm)  WholeWeight(g)  \\\n",
            "0     False       False         False       False           False   \n",
            "1     False       False         False       False           False   \n",
            "2     False       False         False       False           False   \n",
            "3     False       False         False       False           False   \n",
            "4     False       False         False       False           False   \n",
            "...     ...         ...           ...         ...             ...   \n",
            "2092  False       False         False       False           False   \n",
            "2093  False       False         False       False           False   \n",
            "2094  False       False         False       False           False   \n",
            "2095  False       False         False       False           False   \n",
            "2096  False       False         False       False           False   \n",
            "\n",
            "      ShuckedWeight(g)  SellWeight(g)  Spots  \n",
            "0                False          False  False  \n",
            "1                False          False  False  \n",
            "2                False          False  False  \n",
            "3                False          False  False  \n",
            "4                False          False  False  \n",
            "...                ...            ...    ...  \n",
            "2092             False          False  False  \n",
            "2093             False          False  False  \n",
            "2094             False          False  False  \n",
            "2095             False          False  False  \n",
            "2096             False          False  False  \n",
            "\n",
            "[2097 rows x 8 columns]\n",
            "Sex                 0\n",
            "Length(mm)          2\n",
            "Diameter(mm)        1\n",
            "Height(mm)          1\n",
            "WholeWeight(g)      1\n",
            "ShuckedWeight(g)    2\n",
            "SellWeight(g)       1\n",
            "Spots               0\n",
            "dtype: int64\n",
            "Total number of blanck cells 8\n"
          ]
        }
      ]
    },
    {
      "cell_type": "markdown",
      "source": [
        "//printing the total number of instances of an attribute that are null"
      ],
      "metadata": {
        "id": "1QA2Sl4xWV8q"
      }
    },
    {
      "cell_type": "code",
      "source": [
        "print(f\"total no of columns with value == 0 => {(df==0).sum().sum()}\")\n",
        "\n",
        "for column_name in df.columns:\n",
        "  print(f\"\\nColumn name = {column_name}\")\n",
        "  print(f\"Cells with values == 0 => {(df[column_name]==0).sum()}\")"
      ],
      "metadata": {
        "colab": {
          "base_uri": "https://localhost:8080/"
        },
        "id": "LhDsSB97VjBb",
        "outputId": "9adf2b9a-e55a-426c-80d9-b04b6159ca12"
      },
      "execution_count": 9,
      "outputs": [
        {
          "output_type": "stream",
          "name": "stdout",
          "text": [
            "total no of columns with value == 0 => 16\n",
            "\n",
            "Column name = Sex\n",
            "Cells with values == 0 => 0\n",
            "\n",
            "Column name = Length(mm)\n",
            "Cells with values == 0 => 1\n",
            "\n",
            "Column name = Diameter(mm)\n",
            "Cells with values == 0 => 1\n",
            "\n",
            "Column name = Height(mm)\n",
            "Cells with values == 0 => 3\n",
            "\n",
            "Column name = WholeWeight(g)\n",
            "Cells with values == 0 => 4\n",
            "\n",
            "Column name = ShuckedWeight(g)\n",
            "Cells with values == 0 => 4\n",
            "\n",
            "Column name = SellWeight(g)\n",
            "Cells with values == 0 => 0\n",
            "\n",
            "Column name = Spots\n",
            "Cells with values == 0 => 3\n"
          ]
        }
      ]
    },
    {
      "cell_type": "markdown",
      "source": [
        "//filtering the dataset based on the sex value"
      ],
      "metadata": {
        "id": "KVqVdVLyXOWH"
      }
    },
    {
      "cell_type": "code",
      "source": [
        "df_m = df[df['Sex'] == 'M']\n",
        "print(df_m.head())"
      ],
      "metadata": {
        "colab": {
          "base_uri": "https://localhost:8080/"
        },
        "id": "RRhAdM_UXViR",
        "outputId": "48eb4531-d7f0-4af0-babf-b60f793a1202"
      },
      "execution_count": 10,
      "outputs": [
        {
          "output_type": "stream",
          "name": "stdout",
          "text": [
            "   Sex  Length(mm)  Diameter(mm)  Height(mm)  WholeWeight(g)  \\\n",
            "0    M       0.455         0.365       0.095          0.5140   \n",
            "1    M       0.350         0.265       0.090          0.2255   \n",
            "3    M       0.440         0.365       0.125          0.5160   \n",
            "8    M       0.475         0.370       0.125          0.5095   \n",
            "11   M       0.430         0.350       0.110          0.4060   \n",
            "\n",
            "    ShuckedWeight(g)  SellWeight(g)  Spots  \n",
            "0             0.2245          0.150     15  \n",
            "1             0.0995          0.070      7  \n",
            "3             0.2155          0.155     10  \n",
            "8             0.2165          0.165      9  \n",
            "11            0.1675          0.135     10  \n"
          ]
        }
      ]
    },
    {
      "cell_type": "markdown",
      "source": [
        "//checking the unique values for Sex column"
      ],
      "metadata": {
        "id": "H_JxSYNkYZX5"
      }
    },
    {
      "cell_type": "code",
      "source": [
        "# df_m_clean = df_m.fillna(value=df_m.mean())\n",
        "\n",
        "print(df['Sex'].unique())\n",
        "to_drop=df[df[\"Sex\"] == '0']\n",
        "\n",
        "print(to_drop)"
      ],
      "metadata": {
        "colab": {
          "base_uri": "https://localhost:8080/"
        },
        "id": "wKtxdixyYevF",
        "outputId": "83c2d758-5aa2-4438-84ba-fb1df2b44ed4"
      },
      "execution_count": 11,
      "outputs": [
        {
          "output_type": "stream",
          "name": "stdout",
          "text": [
            "['M' 'F' 'I' '0']\n",
            "    Sex  Length(mm)  Diameter(mm)  Height(mm)  WholeWeight(g)  \\\n",
            "21    0       0.380         0.275       0.100          0.2255   \n",
            "896   0       0.255         0.180       0.055          0.0830   \n",
            "\n",
            "     ShuckedWeight(g)  SellWeight(g)  Spots  \n",
            "21              0.080          0.085     10  \n",
            "896             0.031          0.020      4  \n"
          ]
        }
      ]
    },
    {
      "cell_type": "markdown",
      "source": [],
      "metadata": {
        "id": "reeH0v-buPAi"
      }
    },
    {
      "cell_type": "markdown",
      "source": [
        "//dropping the rows that have the sex value == 0\n"
      ],
      "metadata": {
        "id": "OJWMx2j6uSlw"
      }
    },
    {
      "cell_type": "code",
      "source": [
        "to_drop=df[df[\"Sex\"] == '0'].index\n",
        "df_dropped = df.drop(to_drop)\n",
        "print(df_dropped)\n",
        "print(df_dropped['Sex'].unique())\n",
        "\n",
        "check_for_0 = df_dropped[df_dropped[\"Sex\"]=='0']\n",
        "print(check_for_0)"
      ],
      "metadata": {
        "colab": {
          "base_uri": "https://localhost:8080/"
        },
        "id": "MO8R0oGKvyrO",
        "outputId": "5aad39bd-6f02-41d1-b631-418755a5962f"
      },
      "execution_count": 12,
      "outputs": [
        {
          "output_type": "stream",
          "name": "stdout",
          "text": [
            "     Sex  Length(mm)  Diameter(mm)  Height(mm)  WholeWeight(g)  \\\n",
            "0      M       0.455         0.365       0.095          0.5140   \n",
            "1      M       0.350         0.265       0.090          0.2255   \n",
            "2      F       0.530         0.420       0.135          0.6770   \n",
            "3      M       0.440         0.365       0.125          0.5160   \n",
            "4      I       0.330         0.255       0.080          0.2050   \n",
            "...   ..         ...           ...         ...             ...   \n",
            "2092   M       0.530         0.425       0.130          0.7455   \n",
            "2093   F       0.505         0.385       0.115          0.6160   \n",
            "2094   I       0.405         0.305       0.090          0.2825   \n",
            "2095   M       0.415         0.300       0.100          0.3355   \n",
            "2096   M       0.500         0.390       0.145          0.6510   \n",
            "\n",
            "      ShuckedWeight(g)  SellWeight(g)  Spots  \n",
            "0               0.2245          0.150     15  \n",
            "1               0.0995          0.070      7  \n",
            "2               0.2565          0.210      9  \n",
            "3               0.2155          0.155     10  \n",
            "4               0.0895          0.055      7  \n",
            "...                ...            ...    ...  \n",
            "2092            0.2995          0.245     10  \n",
            "2093            0.2430          0.210     11  \n",
            "2094            0.1140          0.095      7  \n",
            "2095            0.1545          0.095      7  \n",
            "2096            0.2730          0.220     11  \n",
            "\n",
            "[2095 rows x 8 columns]\n",
            "['M' 'F' 'I']\n",
            "Empty DataFrame\n",
            "Columns: [Sex, Length(mm), Diameter(mm), Height(mm), WholeWeight(g), ShuckedWeight(g), SellWeight(g), Spots]\n",
            "Index: []\n"
          ]
        }
      ]
    },
    {
      "cell_type": "markdown",
      "source": [
        "//dataframe for males\n",
        "//showing the sum of null\n",
        "////filling in the missing value for males dataset"
      ],
      "metadata": {
        "id": "V8SfwT62zBx_"
      }
    },
    {
      "cell_type": "code",
      "source": [
        "df_males = df_dropped[df_dropped['Sex'] == 'M']\n",
        "print(df_males.head())\n",
        "print(df_males.describe())\n",
        "\n",
        "print(df_males.isnull())\n",
        "print(df_males.isnull().sum())\n",
        "print(f\"Total number of blank cells {df_males.isnull().sum().sum()}\")\n",
        "\n",
        "\n",
        "\n",
        "\n",
        "\n",
        "df_males_clean = df_males.fillna(value=df_males.mean())\n",
        "print(df_males_clean.isnull().sum())\n",
        "print(df_males_clean.isnull().sum().sum())"
      ],
      "metadata": {
        "colab": {
          "base_uri": "https://localhost:8080/"
        },
        "id": "Cwg2y8pYzHK2",
        "outputId": "e26214a7-10f7-41f2-bd43-e64659725f16"
      },
      "execution_count": 13,
      "outputs": [
        {
          "output_type": "stream",
          "name": "stdout",
          "text": [
            "   Sex  Length(mm)  Diameter(mm)  Height(mm)  WholeWeight(g)  \\\n",
            "0    M       0.455         0.365       0.095          0.5140   \n",
            "1    M       0.350         0.265       0.090          0.2255   \n",
            "3    M       0.440         0.365       0.125          0.5160   \n",
            "8    M       0.475         0.370       0.125          0.5095   \n",
            "11   M       0.430         0.350       0.110          0.4060   \n",
            "\n",
            "    ShuckedWeight(g)  SellWeight(g)  Spots  \n",
            "0             0.2245          0.150     15  \n",
            "1             0.0995          0.070      7  \n",
            "3             0.2155          0.155     10  \n",
            "8             0.2165          0.165      9  \n",
            "11            0.1675          0.135     10  \n",
            "       Length(mm)  Diameter(mm)  Height(mm)  WholeWeight(g)  ShuckedWeight(g)  \\\n",
            "count  770.000000    770.000000  771.000000      771.000000        771.000000   \n",
            "mean     0.558935      0.437468    0.151064        0.979768          0.428501   \n",
            "std      0.104083      0.086110    0.036718        0.480654          0.224155   \n",
            "min      0.155000      0.110000    0.000000        0.000000          0.000000   \n",
            "25%      0.505000      0.395000    0.130000        0.654500          0.271750   \n",
            "50%      0.575000      0.455000    0.150000        0.961500          0.419000   \n",
            "75%      0.630000      0.495000    0.175000        1.259500          0.559500   \n",
            "max      0.775000      0.630000    0.515000        2.825500          1.351000   \n",
            "\n",
            "       SellWeight(g)       Spots  \n",
            "count     770.000000  771.000000  \n",
            "mean        0.279716   10.642023  \n",
            "std         0.134216    3.035547  \n",
            "min         0.005000    3.000000  \n",
            "25%         0.190000    9.000000  \n",
            "50%         0.275000   10.000000  \n",
            "75%         0.353875   12.000000  \n",
            "max         0.897000   26.000000  \n",
            "        Sex  Length(mm)  Diameter(mm)  Height(mm)  WholeWeight(g)  \\\n",
            "0     False       False         False       False           False   \n",
            "1     False       False         False       False           False   \n",
            "3     False       False         False       False           False   \n",
            "8     False       False         False       False           False   \n",
            "11    False       False         False       False           False   \n",
            "...     ...         ...           ...         ...             ...   \n",
            "2087  False       False         False       False           False   \n",
            "2090  False       False         False       False           False   \n",
            "2092  False       False         False       False           False   \n",
            "2095  False       False         False       False           False   \n",
            "2096  False       False         False       False           False   \n",
            "\n",
            "      ShuckedWeight(g)  SellWeight(g)  Spots  \n",
            "0                False          False  False  \n",
            "1                False          False  False  \n",
            "3                False          False  False  \n",
            "8                False          False  False  \n",
            "11               False          False  False  \n",
            "...                ...            ...    ...  \n",
            "2087             False          False  False  \n",
            "2090             False          False  False  \n",
            "2092             False          False  False  \n",
            "2095             False          False  False  \n",
            "2096             False          False  False  \n",
            "\n",
            "[771 rows x 8 columns]\n",
            "Sex                 0\n",
            "Length(mm)          1\n",
            "Diameter(mm)        1\n",
            "Height(mm)          0\n",
            "WholeWeight(g)      0\n",
            "ShuckedWeight(g)    0\n",
            "SellWeight(g)       1\n",
            "Spots               0\n",
            "dtype: int64\n",
            "Total number of blanck cells 3\n",
            "Sex                 0\n",
            "Length(mm)          0\n",
            "Diameter(mm)        0\n",
            "Height(mm)          0\n",
            "WholeWeight(g)      0\n",
            "ShuckedWeight(g)    0\n",
            "SellWeight(g)       0\n",
            "Spots               0\n",
            "dtype: int64\n",
            "0\n"
          ]
        },
        {
          "output_type": "stream",
          "name": "stderr",
          "text": [
            "<ipython-input-13-e2414299e29c>:13: FutureWarning: The default value of numeric_only in DataFrame.mean is deprecated. In a future version, it will default to False. In addition, specifying 'numeric_only=None' is deprecated. Select only valid columns or specify the value of numeric_only to silence this warning.\n",
            "  df_males_clean = df_males.fillna(value=df_males.mean())\n"
          ]
        }
      ]
    },
    {
      "cell_type": "markdown",
      "source": [
        "//dataframe for females //showing the sum of null ////filling in the missing value for females dataset"
      ],
      "metadata": {
        "id": "xS42If6Bnrpk"
      }
    },
    {
      "cell_type": "code",
      "source": [
        "df_females = df_dropped[df_dropped['Sex'] == 'M']\n",
        "print(df_females.head())\n",
        "print(df_females.describe())\n",
        "\n",
        "print(df_females.isnull())\n",
        "print(df_females.isnull().sum())\n",
        "print(f\"Total number of blank cells {df_females.isnull().sum().sum()}\")\n",
        "\n",
        "\n",
        "\n",
        "\n",
        "\n",
        "df_females_clean = df_females.fillna(value=df_females.mean())\n",
        "print(df_females_clean.isnull().sum())\n",
        "print(f\"Total number of blank cells {df_females_clean.isnull().sum().sum()}\")"
      ],
      "metadata": {
        "colab": {
          "base_uri": "https://localhost:8080/"
        },
        "id": "KxXN6FGTnu41",
        "outputId": "ef4bb46b-5154-4c39-acb3-f25029c8b35a"
      },
      "execution_count": 15,
      "outputs": [
        {
          "output_type": "stream",
          "name": "stdout",
          "text": [
            "   Sex  Length(mm)  Diameter(mm)  Height(mm)  WholeWeight(g)  \\\n",
            "0    M       0.455         0.365       0.095          0.5140   \n",
            "1    M       0.350         0.265       0.090          0.2255   \n",
            "3    M       0.440         0.365       0.125          0.5160   \n",
            "8    M       0.475         0.370       0.125          0.5095   \n",
            "11   M       0.430         0.350       0.110          0.4060   \n",
            "\n",
            "    ShuckedWeight(g)  SellWeight(g)  Spots  \n",
            "0             0.2245          0.150     15  \n",
            "1             0.0995          0.070      7  \n",
            "3             0.2155          0.155     10  \n",
            "8             0.2165          0.165      9  \n",
            "11            0.1675          0.135     10  \n",
            "       Length(mm)  Diameter(mm)  Height(mm)  WholeWeight(g)  ShuckedWeight(g)  \\\n",
            "count  770.000000    770.000000  771.000000      771.000000        771.000000   \n",
            "mean     0.558935      0.437468    0.151064        0.979768          0.428501   \n",
            "std      0.104083      0.086110    0.036718        0.480654          0.224155   \n",
            "min      0.155000      0.110000    0.000000        0.000000          0.000000   \n",
            "25%      0.505000      0.395000    0.130000        0.654500          0.271750   \n",
            "50%      0.575000      0.455000    0.150000        0.961500          0.419000   \n",
            "75%      0.630000      0.495000    0.175000        1.259500          0.559500   \n",
            "max      0.775000      0.630000    0.515000        2.825500          1.351000   \n",
            "\n",
            "       SellWeight(g)       Spots  \n",
            "count     770.000000  771.000000  \n",
            "mean        0.279716   10.642023  \n",
            "std         0.134216    3.035547  \n",
            "min         0.005000    3.000000  \n",
            "25%         0.190000    9.000000  \n",
            "50%         0.275000   10.000000  \n",
            "75%         0.353875   12.000000  \n",
            "max         0.897000   26.000000  \n",
            "        Sex  Length(mm)  Diameter(mm)  Height(mm)  WholeWeight(g)  \\\n",
            "0     False       False         False       False           False   \n",
            "1     False       False         False       False           False   \n",
            "3     False       False         False       False           False   \n",
            "8     False       False         False       False           False   \n",
            "11    False       False         False       False           False   \n",
            "...     ...         ...           ...         ...             ...   \n",
            "2087  False       False         False       False           False   \n",
            "2090  False       False         False       False           False   \n",
            "2092  False       False         False       False           False   \n",
            "2095  False       False         False       False           False   \n",
            "2096  False       False         False       False           False   \n",
            "\n",
            "      ShuckedWeight(g)  SellWeight(g)  Spots  \n",
            "0                False          False  False  \n",
            "1                False          False  False  \n",
            "3                False          False  False  \n",
            "8                False          False  False  \n",
            "11               False          False  False  \n",
            "...                ...            ...    ...  \n",
            "2087             False          False  False  \n",
            "2090             False          False  False  \n",
            "2092             False          False  False  \n",
            "2095             False          False  False  \n",
            "2096             False          False  False  \n",
            "\n",
            "[771 rows x 8 columns]\n",
            "Sex                 0\n",
            "Length(mm)          1\n",
            "Diameter(mm)        1\n",
            "Height(mm)          0\n",
            "WholeWeight(g)      0\n",
            "ShuckedWeight(g)    0\n",
            "SellWeight(g)       1\n",
            "Spots               0\n",
            "dtype: int64\n",
            "Total number of blanck cells 3\n",
            "Sex                 0\n",
            "Length(mm)          0\n",
            "Diameter(mm)        0\n",
            "Height(mm)          0\n",
            "WholeWeight(g)      0\n",
            "ShuckedWeight(g)    0\n",
            "SellWeight(g)       0\n",
            "Spots               0\n",
            "dtype: int64\n",
            "Total number of blanck cells 0\n"
          ]
        },
        {
          "output_type": "stream",
          "name": "stderr",
          "text": [
            "<ipython-input-15-c55ba1cb9ede>:13: FutureWarning: The default value of numeric_only in DataFrame.mean is deprecated. In a future version, it will default to False. In addition, specifying 'numeric_only=None' is deprecated. Select only valid columns or specify the value of numeric_only to silence this warning.\n",
            "  df_females_clean = df_females.fillna(value=df_females.mean())\n"
          ]
        }
      ]
    }
  ]
}